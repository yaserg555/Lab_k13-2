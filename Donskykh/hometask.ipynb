{
 "cells": [
  {
   "cell_type": "markdown",
   "id": "emerging-luther",
   "metadata": {},
   "source": [
    "# Htask 3"
   ]
  },
  {
   "cell_type": "code",
   "execution_count": null,
   "id": "statewide-treasury",
   "metadata": {},
   "outputs": [],
   "source": [
    "https://www.codewars.com/kata/521c2db8ddc89b9b7a0000c1\n",
    "def snail(snail_map):\n",
    "    ans=[]\n",
    "    while len(snail_map)!=0:\n",
    "        ans.extend(snail_map.pop(0))\n",
    "        if len(snail_map)!=0:\n",
    "            for i in range(len(snail_map)):\n",
    "                ans.append(snail_map[i].pop(-1))\n",
    "        if len(snail_map)!=0:\n",
    "            temp=snail_map.pop(-1)\n",
    "            temp.reverse()\n",
    "            ans.extend(temp)\n",
    "        if len(snail_map)!=0:\n",
    "            for i in range(len(snail_map)-1,0,-1):\n",
    "                ans.append(snail_map[i].pop(0))\n",
    "    return ans"
   ]
  },
  {
   "cell_type": "code",
   "execution_count": 6,
   "id": "concrete-layout",
   "metadata": {},
   "outputs": [],
   "source": [
    "import numpy as np"
   ]
  },
  {
   "cell_type": "markdown",
   "id": "official-egypt",
   "metadata": {},
   "source": [
    "# Htask 6"
   ]
  },
  {
   "cell_type": "code",
   "execution_count": 7,
   "id": "vulnerable-times",
   "metadata": {},
   "outputs": [],
   "source": [
    "import matplotlib.pyplot as plt\n",
    "%matplotlib inline"
   ]
  },
  {
   "cell_type": "code",
   "execution_count": 54,
   "id": "thirty-maria",
   "metadata": {},
   "outputs": [],
   "source": [
    "def f(x):\n",
    "    return (x**3+2*x**2-3*x-2)/(x**2+x-2)\n",
    "x=np.linspace(-4,4,150)\n",
    "y=f(x)"
   ]
  },
  {
   "cell_type": "code",
   "execution_count": 55,
   "id": "disciplinary-adaptation",
   "metadata": {},
   "outputs": [
    {
     "data": {
      "text/plain": [
       "<matplotlib.collections.LineCollection at 0x231c066eb80>"
      ]
     },
     "execution_count": 55,
     "metadata": {},
     "output_type": "execute_result"
    },
    {
     "data": {
      "image/png": "[encoded data removed]",
      "text/plain": [
       "<Figure size 432x288 with 1 Axes>"
      ]
     },
     "metadata": {
      "needs_background": "light"
     },
     "output_type": "display_data"
    }
   ],
   "source": [
    "plt.grid()\n",
    "plt.plot(x,y)\n",
    "plt.vlines(1, y.min(), y.max(), color='orange', linestyles='dashdot')\n",
    "plt.vlines(-2, y.min(), y.max(), color='red', linestyles='dashdot')"
   ]
  },
  {
   "cell_type": "code",
   "execution_count": null,
   "id": "continent-charger",
   "metadata": {},
   "outputs": [],
   "source": []
  }
 ],
 "metadata": {
  "kernelspec": {
   "display_name": "Python 3",
   "language": "python",
   "name": "python3"
  },
  "language_info": {
   "codemirror_mode": {
    "name": "ipython",
    "version": 3
   },
   "file_extension": ".py",
   "mimetype": "text/x-python",
   "name": "python",
   "nbconvert_exporter": "python",
   "pygments_lexer": "ipython3",
   "version": "3.9.1"
  }
 },
 "nbformat": 4,
 "nbformat_minor": 5
}
