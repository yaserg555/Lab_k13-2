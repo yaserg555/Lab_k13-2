{
 "cells": [
  {
   "cell_type": "code",
   "execution_count": 1,
   "id": "american-riverside",
   "metadata": {
    "scrolled": true
   },
   "outputs": [
    {
     "data": {
      "text/plain": [
       "1"
      ]
     },
     "execution_count": 1,
     "metadata": {},
     "output_type": "execute_result"
    }
   ],
   "source": [
    "def snail(snail_map):\n",
    "    ans=[]\n",
    "    while len(snail_map)!=0:\n",
    "        ans.extend(snail_map.pop(0))\n",
    "        if len(snail_map)!=0:\n",
    "            for i in range(len(snail_map)):\n",
    "                ans.append(snail_map[i].pop(-1))\n",
    "        if len(snail_map)!=0:\n",
    "            temp=snail_map.pop(-1)\n",
    "            temp.reverse()\n",
    "            ans.extend(temp)\n",
    "        if len(snail_map)!=0:\n",
    "            for i in range(len(snail_map)-1,0,-1):\n",
    "                ans.append(snail_map[i].pop(0))\n",
    "    return ans"
   ]
  },
  {
   "cell_type": "code",
   "execution_count": null,
   "id": "vulnerable-times",
   "metadata": {},
   "outputs": [],
   "source": []
  },
  {
   "cell_type": "code",
   "execution_count": null,
   "id": "concrete-layout",
   "metadata": {},
   "outputs": [],
   "source": []
  },
  {
   "cell_type": "code",
   "execution_count": null,
   "id": "thirty-maria",
   "metadata": {},
   "outputs": [],
   "source": []
  }
 ],
 "metadata": {
  "kernelspec": {
   "display_name": "Python 3",
   "language": "python",
   "name": "python3"
  },
  "language_info": {
   "codemirror_mode": {
    "name": "ipython",
    "version": 3
   },
   "file_extension": ".py",
   "mimetype": "text/x-python",
   "name": "python",
   "nbconvert_exporter": "python",
   "pygments_lexer": "ipython3",
   "version": "3.9.1"
  }
 },
 "nbformat": 4,
 "nbformat_minor": 5
}
