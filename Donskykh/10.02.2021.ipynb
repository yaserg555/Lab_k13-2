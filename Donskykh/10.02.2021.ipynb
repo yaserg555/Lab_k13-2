{
 "cells": [
  {
   "cell_type": "code",
   "execution_count": 1,
   "id": "plastic-cross",
   "metadata": {},
   "outputs": [],
   "source": [
    "import numpy as np"
   ]
  },
  {
   "cell_type": "code",
   "execution_count": 5,
   "id": "verbal-lobby",
   "metadata": {},
   "outputs": [],
   "source": [
    "a = np.eye(5)"
   ]
  },
  {
   "cell_type": "code",
   "execution_count": 6,
   "id": "specified-greeting",
   "metadata": {},
   "outputs": [
    {
     "data": {
      "text/plain": [
       "array([[1., 0., 0., 0., 0.],\n",
       "       [0., 1., 0., 0., 0.],\n",
       "       [0., 0., 1., 0., 0.],\n",
       "       [0., 0., 0., 1., 0.],\n",
       "       [0., 0., 0., 0., 1.]])"
      ]
     },
     "execution_count": 6,
     "metadata": {},
     "output_type": "execute_result"
    }
   ],
   "source": [
    "a"
   ]
  },
  {
   "cell_type": "markdown",
   "id": "attached-royalty",
   "metadata": {},
   "source": [
    "# Обход треугольника по горизонтали"
   ]
  },
  {
   "cell_type": "code",
   "execution_count": 16,
   "id": "considered-mambo",
   "metadata": {},
   "outputs": [],
   "source": [
    "def f (a):\n",
    "    counter=0\n",
    "    for i in range(a.shape[1]//2 + a.shape[1]%2):\n",
    "        for y in range(i, a.shape[1]-i):\n",
    "            a[i][y]=counter\n",
    "            counter+=1"
   ]
  },
  {
   "cell_type": "code",
   "execution_count": 22,
   "id": "gentle-louisiana",
   "metadata": {},
   "outputs": [
    {
     "data": {
      "text/plain": [
       "array([[0., 1., 2., 3., 4.],\n",
       "       [0., 5., 6., 7., 0.],\n",
       "       [0., 0., 8., 0., 0.],\n",
       "       [0., 0., 0., 1., 0.],\n",
       "       [0., 0., 0., 0., 1.]])"
      ]
     },
     "execution_count": 22,
     "metadata": {},
     "output_type": "execute_result"
    }
   ],
   "source": [
    "f(a)\n",
    "a"
   ]
  },
  {
   "cell_type": "code",
   "execution_count": 19,
   "id": "plain-research",
   "metadata": {},
   "outputs": [],
   "source": [
    "b=np.eye(4)\n",
    "f(b)"
   ]
  },
  {
   "cell_type": "code",
   "execution_count": 89,
   "id": "cardiovascular-coral",
   "metadata": {},
   "outputs": [],
   "source": [
    "b=np.eye(6)"
   ]
  },
  {
   "cell_type": "markdown",
   "id": "verified-madness",
   "metadata": {},
   "source": [
    "# Обход треугольника по вертикали"
   ]
  },
  {
   "cell_type": "code",
   "execution_count": 90,
   "id": "disciplinary-fusion",
   "metadata": {},
   "outputs": [],
   "source": [
    "def f2(a):\n",
    "    count=0\n",
    "    for flag in range((a.shape[1]//2)//2):\n",
    "        for i in range(flag, a.shape[1]//2 + a.shape[1]%2):\n",
    "            a[i][i]=count\n",
    "            count+=1\n",
    "        \n",
    "        for i in range(a.shape[1]//2,a.shape[1]-flag):\n",
    "            a[a.shape[1] - i  -1][i]=count\n",
    "            count+=1\n",
    "            \n",
    "        \n",
    "        for y in range (a.shape[1]-flag -2, flag, -1):\n",
    "            a[flag][y]=count\n",
    "            count+=1"
   ]
  },
  {
   "cell_type": "code",
   "execution_count": 91,
   "id": "introductory-boston",
   "metadata": {},
   "outputs": [],
   "source": [
    "f2(b)"
   ]
  },
  {
   "cell_type": "code",
   "execution_count": 92,
   "id": "instructional-northeast",
   "metadata": {},
   "outputs": [
    {
     "data": {
      "text/plain": [
       "array([[0., 9., 8., 7., 6., 5.],\n",
       "       [0., 1., 0., 0., 4., 0.],\n",
       "       [0., 0., 2., 3., 0., 0.],\n",
       "       [0., 0., 0., 1., 0., 0.],\n",
       "       [0., 0., 0., 0., 1., 0.],\n",
       "       [0., 0., 0., 0., 0., 1.]])"
      ]
     },
     "execution_count": 92,
     "metadata": {},
     "output_type": "execute_result"
    }
   ],
   "source": [
    "b\n"
   ]
  },
  {
   "cell_type": "raw",
   "id": "cheap-detective",
   "metadata": {},
   "source": [
    "недоделал"
   ]
  }
 ],
 "metadata": {
  "kernelspec": {
   "display_name": "Python 3",
   "language": "python",
   "name": "python3"
  },
  "language_info": {
   "codemirror_mode": {
    "name": "ipython",
    "version": 3
   },
   "file_extension": ".py",
   "mimetype": "text/x-python",
   "name": "python",
   "nbconvert_exporter": "python",
   "pygments_lexer": "ipython3",
   "version": "3.9.1"
  }
 },
 "nbformat": 4,
 "nbformat_minor": 5
}
