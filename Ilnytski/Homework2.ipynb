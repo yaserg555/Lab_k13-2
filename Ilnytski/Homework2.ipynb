{
 "cells": [
  {
   "cell_type": "markdown",
   "id": "tutorial-causing",
   "metadata": {},
   "source": [
    "<h1 style = \"color: blue; font-size: 40px;\">Plot</h1>"
   ]
  },
  {
   "cell_type": "code",
   "execution_count": 1,
   "id": "geographic-pasta",
   "metadata": {},
   "outputs": [
    {
     "data": {
      "image/png": "[encoded data removed]",
      "text/plain": [
       "<Figure size 960x480 with 1 Axes>"
      ]
     },
     "metadata": {
      "needs_background": "light"
     },
     "output_type": "display_data"
    }
   ],
   "source": [
    "import pylab as pl\n",
    "import numpy as np\n",
    "import matplotlib.pyplot as plt\n",
    "\n",
    "def f(x):\n",
    "    return (x**3 + 2*x**2 - 3*x - 2)/(x**2 + x - 2)\n",
    "\n",
    "pl.figure(figsize=(12, 6), dpi=80)\n",
    "pl.subplot(1, 1, 1)\n",
    "x = np.linspace(-4, 4, 500, endpoint=True)\n",
    "c = f(x)\n",
    "\n",
    "pl.xlim(x.min() * 1.1, x.max() * 1.1)\n",
    "pl.ylim(c.min() * 1.1, c.max() * 1.1)\n",
    "\n",
    "up = 100\n",
    "down = -100\n",
    "\n",
    "c[c > up] = np.inf\n",
    "c[c < down] = -np.inf\n",
    "\n",
    "\n",
    "\"\"\"\n",
    "Alters the position of the axis - moves them to the centre\n",
    "\"\"\"\n",
    "ax = pl.gca()  # gca stands for 'get current axis'\n",
    "ax.spines['right'].set_color('none')\n",
    "ax.spines['top'].set_color('none')\n",
    "ax.xaxis.set_ticks_position('bottom')\n",
    "ax.spines['bottom'].set_position(('data', 0))\n",
    "ax.yaxis.set_ticks_position('left')\n",
    "ax.spines['left'].set_position(('data',0))\n",
    "\n",
    "ylim = ax.get_ylim()\n",
    "plt.vlines([-2,1], ylim[0], ylim[1], linewidth=2, linestyle=\"dashed\")\n",
    "\n",
    "pl.plot(x, c, color=\"brown\",  linewidth=1, linestyle=\"-\", \n",
    "              label=\"y = my plot\")\n",
    "\n",
    "pl.legend(loc='upper left')\n",
    "\n",
    "\n",
    "for label in ax.get_xticklabels() + ax.get_yticklabels():\n",
    "    label.set_fontsize(15)\n",
    "\n",
    "plt.ylim((-15,15))\n",
    "\n",
    "plt.show()"
   ]
  },
  {
   "cell_type": "markdown",
   "id": "dental-strand",
   "metadata": {},
   "source": [
    "<h1 style = \"color: red; font-size: 40px;\">Matrix</h1>"
   ]
  },
  {
   "cell_type": "code",
   "execution_count": 2,
   "id": "integrated-parcel",
   "metadata": {},
   "outputs": [
    {
     "data": {
      "text/plain": [
       "array([[ 1,  2,  3,  4,  5,  6],\n",
       "       [ 7,  8,  9, 10, 11, 12],\n",
       "       [13, 14, 15, 16, 17, 18],\n",
       "       [19, 20, 21, 22, 23, 24],\n",
       "       [25, 26, 27, 28, 29, 30],\n",
       "       [31, 32, 33, 34, 35, 36]], dtype=int64)"
      ]
     },
     "execution_count": 2,
     "metadata": {},
     "output_type": "execute_result"
    }
   ],
   "source": [
    "n = 6\n",
    "matrix = np.array(range(1,n*n+1), dtype = np.int64).reshape(n,n)\n",
    "matrix"
   ]
  },
  {
   "cell_type": "markdown",
   "id": "likely-cholesterol",
   "metadata": {},
   "source": [
    "<h1 style = \"color: green; font-size: 30px;\">a)</h1>"
   ]
  },
  {
   "cell_type": "code",
   "execution_count": 3,
   "id": "fitted-gasoline",
   "metadata": {},
   "outputs": [],
   "source": [
    "def hor_snake(field):\n",
    "    snake = []\n",
    "    n = len(field)\n",
    "    k = 0\n",
    "    row = 0\n",
    "    direction = 1\n",
    "    part = field[row,k:n-k:direction]\n",
    "    while len(part):\n",
    "        snake = np.append(snake, part)\n",
    "        k += 1\n",
    "        row += 1\n",
    "        direction = -direction\n",
    "        if (direction < 0):\n",
    "            part = field[row, n-k-1:k-1:direction]\n",
    "        else:\n",
    "            part = field[row, k:n-k:direction]\n",
    "            \n",
    "    return snake"
   ]
  },
  {
   "cell_type": "code",
   "execution_count": 4,
   "id": "sunrise-smoke",
   "metadata": {},
   "outputs": [
    {
     "data": {
      "text/plain": [
       "array([ 1.,  2.,  3.,  4.,  5.,  6., 11., 10.,  9.,  8., 15., 16.])"
      ]
     },
     "execution_count": 4,
     "metadata": {},
     "output_type": "execute_result"
    }
   ],
   "source": [
    "hor_snake(matrix)"
   ]
  },
  {
   "cell_type": "markdown",
   "id": "broken-agenda",
   "metadata": {},
   "source": [
    "<h1 style = \"color: green; font-size: 30px;\">b)</h1>"
   ]
  },
  {
   "cell_type": "code",
   "execution_count": 5,
   "id": "polyphonic-print",
   "metadata": {},
   "outputs": [],
   "source": [
    "def trim(m, pos, axis):\n",
    "    if m.size:\n",
    "        m = np.delete(m,pos,axis)\n",
    "    return m\n",
    "\n",
    "def spiral_upper_angle(mtr):\n",
    "    n = mtr.shape[1]\n",
    "    snake = np.array([], dtype='int64')\n",
    "    n = len(mtr)\n",
    "    while len(mtr) > (n + 1) // 2:\n",
    "        mtr = np.delete(mtr, -1, 0)\n",
    "        \n",
    "    while mtr.size:\n",
    "        snake = np.append(snake, mtr[0][::-1])\n",
    "        mtr = np.delete(mtr, 0, 0)\n",
    "        mtr = np.delete(mtr, 0, 1)\n",
    "        mtr = trim(mtr, mtr.shape[1] - 1, 1)\n",
    "        snake = np.append(snake, np.diag(mtr, 0))\n",
    "        \n",
    "        mtr = np.flipud(mtr)\n",
    "        \n",
    "        reverse_diag = mtr.shape[1] // 2\n",
    "        frm = 1\n",
    "        if not n % 2:\n",
    "            frm = 0\n",
    "        snake =  np.append(snake, np.diag(mtr, reverse_diag)[frm:])\n",
    "        mtr = np.flipud(mtr)\n",
    "        mtr = trim(mtr, mtr.shape[0] - 1, 0)\n",
    "        mtr = trim(mtr, 0, 1)\n",
    "        mtr = trim(mtr, mtr.shape[1]-1, 1)\n",
    "    return snake\n",
    "    \n",
    "        "
   ]
  },
  {
   "cell_type": "code",
   "execution_count": 6,
   "id": "undefined-therapist",
   "metadata": {},
   "outputs": [],
   "source": [
    "n = 100\n",
    "m = np.array(range(1, n*n+1), dtype = np.int64).reshape(n,n)"
   ]
  },
  {
   "cell_type": "code",
   "execution_count": 7,
   "id": "rocky-richards",
   "metadata": {},
   "outputs": [
    {
     "data": {
      "text/plain": [
       "array([ 100,   99,   98, ..., 2449, 2550, 2551], dtype=int64)"
      ]
     },
     "execution_count": 7,
     "metadata": {},
     "output_type": "execute_result"
    }
   ],
   "source": [
    "spiral_upper_angle(m)"
   ]
  },
  {
   "cell_type": "markdown",
   "id": "perfect-edward",
   "metadata": {},
   "source": [
    "<h1 style = \"color: orange; font-size: 40px;\">Dictionaries</h1>"
   ]
  },
  {
   "cell_type": "code",
   "execution_count": 14,
   "id": "excited-equivalent",
   "metadata": {},
   "outputs": [],
   "source": [
    "from collections import defaultdict"
   ]
  },
  {
   "cell_type": "code",
   "execution_count": 23,
   "id": "yellow-registration",
   "metadata": {},
   "outputs": [
    {
     "data": {
      "text/plain": [
       "10"
      ]
     },
     "execution_count": 23,
     "metadata": {},
     "output_type": "execute_result"
    }
   ],
   "source": [
    "nums = [np.random.randint(-20, 20) for i in range(10)]\n",
    "len(nums)"
   ]
  },
  {
   "cell_type": "code",
   "execution_count": 24,
   "id": "peaceful-genetics",
   "metadata": {},
   "outputs": [
    {
     "data": {
      "text/plain": [
       "[9, 13, 4, 10, -19, 6, 2, -2, 14]"
      ]
     },
     "execution_count": 24,
     "metadata": {},
     "output_type": "execute_result"
    }
   ],
   "source": [
    "unique = defaultdict(None)\n",
    "for i in range(len(nums)):\n",
    "    number = nums[i]\n",
    "    unique[number] = i\n",
    "res = []\n",
    "for j in unique:\n",
    "    res.append(j)\n",
    "res"
   ]
  },
  {
   "cell_type": "code",
   "execution_count": 28,
   "id": "operating-apple",
   "metadata": {},
   "outputs": [
    {
     "name": "stdout",
     "output_type": "stream",
     "text": [
      "{4096, 16384, 1024, 1, 15876, 9, 15376, 529, 17424, 36, 17956, 2601, 49, 7225, 7744, 576, 1600, 5184, 10816, 9801, 81, 8281, 6241, 19044, 13924, 11881, 121, 4225, 2704, 5776, 1681, 4761, 2209, 169, 3249, 22201, 9409, 20164, 196, 729, 1764, 7396, 2809, 6400, 16641, 2304, 15625, 17161, 8464, 11025, 10000, 784, 3364, 18225, 1849, 9025, 324, 12100, 2401, 5476, 10609, 3969, 9604, 1936, 11664, 400, 8100, 13225, 5041, 441, 961, 6084, 2500, 8649, 3025, 20449, 11236, 2025, 1521}\n"
     ]
    }
   ],
   "source": [
    "def f(x):\n",
    "    y = set()\n",
    "    for item in x:\n",
    "        y.add(item*item)\n",
    "    return y\n",
    "points = set([np.random.randint(-150, 150) for i in range(100)])\n",
    "len(points)\n",
    "print(f(points))"
   ]
  },
  {
   "cell_type": "code",
   "execution_count": 57,
   "id": "early-vulnerability",
   "metadata": {},
   "outputs": [
    {
     "data": {
      "text/plain": [
       "{8: -18,\n",
       " 50: 9,\n",
       " 9: -34,\n",
       " 34: 43,\n",
       " 78: 6,\n",
       " 48: -12,\n",
       " 6: -30,\n",
       " 60: 17,\n",
       " 1: -33,\n",
       " 7: -27,\n",
       " 77: 27,\n",
       " 46: 24,\n",
       " 55: 13,\n",
       " 61: -50,\n",
       " 23: -42,\n",
       " 99: 2,\n",
       " 90: 20,\n",
       " 91: 34,\n",
       " 81: 21,\n",
       " 39: -44,\n",
       " 47: -38,\n",
       " 52: -41,\n",
       " 65: 37,\n",
       " 88: -16,\n",
       " 73: 1,\n",
       " 54: -46,\n",
       " 5: -40,\n",
       " 37: 31,\n",
       " 70: -20,\n",
       " 83: -29,\n",
       " 27: 23,\n",
       " 21: -11,\n",
       " 25: -6,\n",
       " 19: 15,\n",
       " 28: 14,\n",
       " 36: -13,\n",
       " 3: -1,\n",
       " 14: -24,\n",
       " 41: -8,\n",
       " 16: -15,\n",
       " 69: 38,\n",
       " 63: 25,\n",
       " 4: 28,\n",
       " 85: -49}"
      ]
     },
     "execution_count": 57,
     "metadata": {},
     "output_type": "execute_result"
    }
   ],
   "source": [
    "function = dict()\n",
    "for i in range(100):\n",
    "    key = np.random.randint(-50, 50)\n",
    "    if not key in function.keys():\n",
    "        function[key] = np.random.randint(100)\n",
    "reverse_f = dict()\n",
    "for (x, y) in function.items():\n",
    "    reverse_f[y] = x\n",
    "reverse_f"
   ]
  },
  {
   "cell_type": "code",
   "execution_count": 48,
   "id": "southeast-aluminum",
   "metadata": {},
   "outputs": [],
   "source": [
    "def inv(func, b):\n",
    "    for (x,y) in func.items():\n",
    "        if (y == b)"
   ]
  },
  {
   "cell_type": "code",
   "execution_count": 42,
   "id": "efficient-renewal",
   "metadata": {},
   "outputs": [
    {
     "data": {
      "text/plain": [
       "{1: 2}"
      ]
     },
     "execution_count": 42,
     "metadata": {},
     "output_type": "execute_result"
    }
   ],
   "source": []
  },
  {
   "cell_type": "code",
   "execution_count": null,
   "id": "comprehensive-alias",
   "metadata": {},
   "outputs": [],
   "source": []
  }
 ],
 "metadata": {
  "kernelspec": {
   "display_name": "Python 3",
   "language": "python",
   "name": "python3"
  },
  "language_info": {
   "codemirror_mode": {
    "name": "ipython",
    "version": 3
   },
   "file_extension": ".py",
   "mimetype": "text/x-python",
   "name": "python",
   "nbconvert_exporter": "python",
   "pygments_lexer": "ipython3",
   "version": "3.7.4"
  }
 },
 "nbformat": 4,
 "nbformat_minor": 5
}
