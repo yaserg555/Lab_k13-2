{
 "cells": [
  {
   "cell_type": "code",
   "execution_count": 27,
   "id": "fatty-inspection",
   "metadata": {},
   "outputs": [],
   "source": [
    "import numpy as np"
   ]
  },
  {
   "cell_type": "markdown",
   "id": "killing-spending",
   "metadata": {},
   "source": [
    "<h1 style = \"color: green; word-spacing:0.2em\">Task 3</h1>"
   ]
  },
  {
   "cell_type": "code",
   "execution_count": 2,
   "id": "surprising-jerusalem",
   "metadata": {},
   "outputs": [],
   "source": [
    "n = 5\n",
    "matrix = np.array([[n*i + j + 1 for j in range(n)]for i in range(n)])"
   ]
  },
  {
   "cell_type": "code",
   "execution_count": 3,
   "id": "expensive-enforcement",
   "metadata": {},
   "outputs": [
    {
     "data": {
      "text/plain": [
       "array([ 1,  2,  3,  4,  5, 10, 15, 20, 25, 24, 23, 22, 21, 16, 11,  6,  7,\n",
       "        8,  9, 14, 19, 18, 17, 12, 13], dtype=int64)"
      ]
     },
     "execution_count": 3,
     "metadata": {},
     "output_type": "execute_result"
    }
   ],
   "source": [
    "a = np.array([], dtype = np.int64)\n",
    "while matrix.size:\n",
    "    a = np.append(a, matrix[0])\n",
    "    matrix = np.delete(matrix, 0, 0)\n",
    "    matrix = matrix.T[::-1]\n",
    "a"
   ]
  },
  {
   "cell_type": "markdown",
   "id": "amazing-protest",
   "metadata": {},
   "source": [
    "<h1 style=\"color: red\">Task 4</h1>"
   ]
  },
  {
   "cell_type": "code",
   "execution_count": 4,
   "id": "hindu-niagara",
   "metadata": {},
   "outputs": [
    {
     "name": "stdout",
     "output_type": "stream",
     "text": [
      "[[ 1  2  3  4]\n",
      " [ 5  6  7  8]\n",
      " [ 9 10 11 12]\n",
      " [13 14 15 16]]\n",
      "[ 2  7 12]\n"
     ]
    }
   ],
   "source": [
    "m = 4\n",
    "field = np.array([[m*i + j + 1 for j in range(m)]for i in range(m)])\n",
    "print(field)\n",
    "print(np.diag(field, 1))"
   ]
  },
  {
   "cell_type": "code",
   "execution_count": 5,
   "id": "applicable-grill",
   "metadata": {},
   "outputs": [
    {
     "data": {
      "text/plain": [
       "array([ 4,  8,  3,  2,  7, 12], dtype=int64)"
      ]
     },
     "execution_count": 5,
     "metadata": {},
     "output_type": "execute_result"
    }
   ],
   "source": [
    "snake = np.array([], dtype = np.int64)\n",
    "diag_step = m - 1\n",
    "direction = 1\n",
    "while (diag_step > 0):\n",
    "    snake = np.append(snake, np.diag(field, diag_step)[::direction])\n",
    "    direction = -direction\n",
    "    diag_step -= 1\n",
    "snake\n",
    "    "
   ]
  },
  {
   "cell_type": "markdown",
   "id": "directed-fisher",
   "metadata": {},
   "source": [
    "<h1 style=\"color: blue\">Task 5</h1>\n"
   ]
  },
  {
   "cell_type": "code",
   "execution_count": 6,
   "id": "metric-cisco",
   "metadata": {},
   "outputs": [
    {
     "data": {
      "text/plain": [
       "array([[ 28,   5,   4, -17,   4],\n",
       "       [  4,  19,  -4,  -6,  -5],\n",
       "       [  6,  -5,  13,   3,  -5],\n",
       "       [ 16,   5,  -1, -20, -18]])"
      ]
     },
     "execution_count": 6,
     "metadata": {},
     "output_type": "execute_result"
    }
   ],
   "source": [
    "from numpy import random\n",
    "n = 4\n",
    "m = 5\n",
    "seq = random.randint(-30, 30, size=(n, m))\n",
    "seq"
   ]
  },
  {
   "cell_type": "code",
   "execution_count": 7,
   "id": "derived-banana",
   "metadata": {},
   "outputs": [],
   "source": [
    "min_row = np.amin(seq, axis = 1)\n",
    "max_column = np.amax(seq, axis = 0)\n",
    "for i in range(n):\n",
    "    for j in range(m):\n",
    "        if (min_row[i] == max_column[j]):\n",
    "            print(\"saddle point equal \", min_row[i], \" at i = \", i, \" and j = \", j)\n",
    "            "
   ]
  },
  {
   "cell_type": "markdown",
   "id": "amended-summary",
   "metadata": {},
   "source": [
    "<h1 style = \"color: yellow\">Task 6</h1>"
   ]
  },
  {
   "cell_type": "code",
   "execution_count": 35,
   "id": "coated-pioneer",
   "metadata": {},
   "outputs": [],
   "source": [
    "import matplotlib.pyplot as plt\n",
    "\n",
    "def f(x):\n",
    "    return (x**3 + 2*x**2-3*x-2)/(x**2 + x - 2)\n",
    "a = -4.0\n",
    "b = 4.0\n",
    "n = 200\n",
    "x = np.linspace(a,b,n)\n",
    "\n",
    "y = f(x)"
   ]
  },
  {
   "cell_type": "code",
   "execution_count": 36,
   "id": "stunning-slope",
   "metadata": {},
   "outputs": [
    {
     "data": {
      "image/png": "[encoded data removed]",
      "text/plain": [
       "<Figure size 432x288 with 1 Axes>"
      ]
     },
     "metadata": {
      "needs_background": "light"
     },
     "output_type": "display_data"
    }
   ],
   "source": [
    "plt.plot(x,y,color=\"green\")\n",
    "plt.show()"
   ]
  },
  {
   "cell_type": "code",
   "execution_count": null,
   "id": "subtle-wonder",
   "metadata": {},
   "outputs": [],
   "source": []
  }
 ],
 "metadata": {
  "kernelspec": {
   "display_name": "Python 3",
   "language": "python",
   "name": "python3"
  },
  "language_info": {
   "codemirror_mode": {
    "name": "ipython",
    "version": 3
   },
   "file_extension": ".py",
   "mimetype": "text/x-python",
   "name": "python",
   "nbconvert_exporter": "python",
   "pygments_lexer": "ipython3",
   "version": "3.7.4"
  }
 },
 "nbformat": 4,
 "nbformat_minor": 5
}
