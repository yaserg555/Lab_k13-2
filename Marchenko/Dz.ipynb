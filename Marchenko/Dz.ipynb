{
 "cells": [
  {
   "cell_type": "code",
   "execution_count": 6,
   "id": "generic-regression",
   "metadata": {},
   "outputs": [],
   "source": [
    "import numpy as np\n",
    "import random"
   ]
  },
  {
   "cell_type": "code",
   "execution_count": 2,
   "id": "wired-feedback",
   "metadata": {},
   "outputs": [
    {
     "data": {
      "text/plain": [
       "array([[ 18,   0,  -7, -19],\n",
       "       [-18,  18,  18,  -3],\n",
       "       [-19,   8,   9, -18],\n",
       "       [ -1, -11, -17,   2]])"
      ]
     },
     "execution_count": 2,
     "metadata": {},
     "output_type": "execute_result"
    }
   ],
   "source": [
    "n = 4\n",
    "m = np.random.randint(-20, 20, (n,n))\n",
    "m"
   ]
  },
  {
   "cell_type": "code",
   "execution_count": 3,
   "id": "saving-interim",
   "metadata": {},
   "outputs": [
    {
     "data": {
      "text/plain": [
       "[18, 0, -7, -19, -3, -18, 2, -17, -11, -1, -19, -18, 18, 18, 9, 8]"
      ]
     },
     "execution_count": 3,
     "metadata": {},
     "output_type": "execute_result"
    }
   ],
   "source": [
    "def spiral(m):\n",
    "    if len(m) < 2:\n",
    "        return m.flatten().tolist()\n",
    "    else:\n",
    "        a = m[0, :].tolist()\n",
    "        b = m[1:, -1].tolist()\n",
    "        c = m[-1:, :-1].flatten()[::-1].tolist()\n",
    "        d = m[1:-1, 0] [::-1].tolist()    \n",
    "    return a + b + c + d + spiral(m[1:-1, 1:-1])\n",
    "spiral(m)"
   ]
  },
  {
   "cell_type": "code",
   "execution_count": 4,
   "id": "dominant-insertion",
   "metadata": {},
   "outputs": [
    {
     "data": {
      "text/plain": [
       "[-19, [-7, -3], [-18, 18, 0]]"
      ]
     },
     "execution_count": 4,
     "metadata": {},
     "output_type": "execute_result"
    }
   ],
   "source": [
    "def snail(m):\n",
    "    k = []\n",
    "    for i in range(n-1):\n",
    "        if i % 2 == 0:\n",
    "            k.append(np.diagonal(m).tolist())\n",
    "        else:\n",
    "            k.append(np.diagonal(m).tolist()[::-1])\n",
    "        m = np.delete(m, (-1), axis=0) \n",
    "        m = np.delete(m, (0), axis=1) \n",
    "    k.append(m[0][-1])  \n",
    "    return k[:0:-1]\n",
    "snail(m)"
   ]
  },
  {
   "cell_type": "code",
   "execution_count": 5,
   "id": "bottom-thomson",
   "metadata": {},
   "outputs": [
    {
     "data": {
      "text/plain": [
       "array([[  8,   3, -12,  -1, -15],\n",
       "       [-14,  19, -19, -16,   5],\n",
       "       [  7,  -8, -18,  -5,  -3],\n",
       "       [-18,  12,  13,   3, -13]])"
      ]
     },
     "execution_count": 5,
     "metadata": {},
     "output_type": "execute_result"
    }
   ],
   "source": [
    "n = 4\n",
    "m = 5\n",
    "a = np.random.randint(-20, 20, (n,m))\n",
    "a"
   ]
  },
  {
   "cell_type": "code",
   "execution_count": null,
   "id": "developmental-album",
   "metadata": {},
   "outputs": [],
   "source": []
  },
  {
   "cell_type": "code",
   "execution_count": null,
   "id": "processed-semiconductor",
   "metadata": {},
   "outputs": [],
   "source": []
  },
  {
   "cell_type": "code",
   "execution_count": null,
   "id": "sunrise-annex",
   "metadata": {},
   "outputs": [],
   "source": []
  }
 ],
 "metadata": {
  "kernelspec": {
   "display_name": "Python 3",
   "language": "python",
   "name": "python3"
  },
  "language_info": {
   "codemirror_mode": {
    "name": "ipython",
    "version": 3
   },
   "file_extension": ".py",
   "mimetype": "text/x-python",
   "name": "python",
   "nbconvert_exporter": "python",
   "pygments_lexer": "ipython3",
   "version": "3.9.1"
  }
 },
 "nbformat": 4,
 "nbformat_minor": 5
}
