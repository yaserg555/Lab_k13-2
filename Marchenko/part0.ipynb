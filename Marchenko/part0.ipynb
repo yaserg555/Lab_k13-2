{
 "cells": [
  {
   "cell_type": "code",
   "execution_count": 35,
   "id": "reduced-gross",
   "metadata": {},
   "outputs": [],
   "source": [
    "import numpy as np\n",
    "import random"
   ]
  },
  {
   "cell_type": "code",
   "execution_count": 36,
   "id": "ultimate-beverage",
   "metadata": {},
   "outputs": [],
   "source": [
    "n = 3\n",
    "m = 3"
   ]
  },
  {
   "cell_type": "code",
   "execution_count": 37,
   "id": "perfect-transaction",
   "metadata": {},
   "outputs": [
    {
     "data": {
      "text/plain": [
       "array([[   0,    1,    0],\n",
       "       [   0, 1212,    0],\n",
       "       [ 768,    0,    0]])"
      ]
     },
     "execution_count": 37,
     "metadata": {},
     "output_type": "execute_result"
    }
   ],
   "source": [
    "a = np.empty([n, m], dtype = int)\n",
    "a"
   ]
  },
  {
   "cell_type": "code",
   "execution_count": 38,
   "id": "completed-agreement",
   "metadata": {},
   "outputs": [
    {
     "data": {
      "text/plain": [
       "array([[ -3,  19, -17],\n",
       "       [  7, -18,   2],\n",
       "       [ 19,   8,  17]])"
      ]
     },
     "execution_count": 38,
     "metadata": {},
     "output_type": "execute_result"
    }
   ],
   "source": [
    "for i in range(n):\n",
    "    for j in range(m):\n",
    "        a[i][j] = np.random.randint(-20, 20)\n",
    "a"
   ]
  },
  {
   "cell_type": "code",
   "execution_count": 39,
   "id": "juvenile-stomach",
   "metadata": {},
   "outputs": [
    {
     "data": {
      "text/plain": [
       "array([ -3,  19, -17,   7, -18,   2,  19,   8,  17])"
      ]
     },
     "execution_count": 39,
     "metadata": {},
     "output_type": "execute_result"
    }
   ],
   "source": [
    "a.flatten()"
   ]
  },
  {
   "cell_type": "code",
   "execution_count": 40,
   "id": "interesting-portsmouth",
   "metadata": {},
   "outputs": [
    {
     "data": {
      "text/plain": [
       "array([[-1,  1, -1],\n",
       "       [ 1, -1,  1],\n",
       "       [ 1,  1,  1]])"
      ]
     },
     "execution_count": 40,
     "metadata": {},
     "output_type": "execute_result"
    }
   ],
   "source": [
    "s = np.sign(a)\n",
    "s"
   ]
  },
  {
   "cell_type": "code",
   "execution_count": 41,
   "id": "affected-photograph",
   "metadata": {},
   "outputs": [
    {
     "data": {
      "text/plain": [
       "array([[1.73205081, 4.35889894, 4.12310563],\n",
       "       [2.64575131, 4.24264069, 1.41421356],\n",
       "       [4.35889894, 2.82842712, 4.12310563]])"
      ]
     },
     "execution_count": 41,
     "metadata": {},
     "output_type": "execute_result"
    }
   ],
   "source": [
    "b = np.empty([n, m], dtype = float)\n",
    "for i in range(n):\n",
    "    for j in range(m):\n",
    "        b[i][j] = (abs(a[i][j]))**(1/2)\n",
    "b"
   ]
  },
  {
   "cell_type": "code",
   "execution_count": 42,
   "id": "british-combination",
   "metadata": {},
   "outputs": [
    {
     "data": {
      "text/plain": [
       "array([[1., 4., 4.],\n",
       "       [2., 4., 1.],\n",
       "       [4., 2., 4.]])"
      ]
     },
     "execution_count": 42,
     "metadata": {},
     "output_type": "execute_result"
    }
   ],
   "source": [
    "c = np.trunc(b)\n",
    "c"
   ]
  },
  {
   "cell_type": "code",
   "execution_count": 43,
   "id": "organized-truck",
   "metadata": {},
   "outputs": [
    {
     "data": {
      "text/plain": [
       "array([[ 1., 16., 16.],\n",
       "       [ 4., 16.,  1.],\n",
       "       [16.,  4., 16.]])"
      ]
     },
     "execution_count": 43,
     "metadata": {},
     "output_type": "execute_result"
    }
   ],
   "source": [
    "d = np.empty([n, m], dtype = float)\n",
    "for i in range(n):\n",
    "    for j in range(m):\n",
    "        d[i][j] = (c[i][j])**2\n",
    "d"
   ]
  },
  {
   "cell_type": "code",
   "execution_count": 44,
   "id": "heard-aquatic",
   "metadata": {},
   "outputs": [
    {
     "data": {
      "text/plain": [
       "array([[ -1.,  16., -16.],\n",
       "       [  4., -16.,   1.],\n",
       "       [ 16.,   4.,  16.]])"
      ]
     },
     "execution_count": 44,
     "metadata": {},
     "output_type": "execute_result"
    }
   ],
   "source": [
    "d = d * s\n",
    "d"
   ]
  },
  {
   "cell_type": "code",
   "execution_count": 45,
   "id": "aggregate-flooring",
   "metadata": {},
   "outputs": [
    {
     "data": {
      "text/plain": [
       "array([[False, False, False],\n",
       "       [False, False, False],\n",
       "       [False, False, False]])"
      ]
     },
     "execution_count": 45,
     "metadata": {},
     "output_type": "execute_result"
    }
   ],
   "source": [
    "e = a == d\n",
    "e"
   ]
  },
  {
   "cell_type": "code",
   "execution_count": 46,
   "id": "played-childhood",
   "metadata": {},
   "outputs": [
    {
     "data": {
      "text/plain": [
       "array([[ -3,  19, -17],\n",
       "       [  7, -18,   2],\n",
       "       [ 19,   8,  17]])"
      ]
     },
     "execution_count": 46,
     "metadata": {},
     "output_type": "execute_result"
    }
   ],
   "source": [
    "ee = np.where(e == True, 0, a)\n",
    "ee"
   ]
  },
  {
   "cell_type": "code",
   "execution_count": 47,
   "id": "checked-exhibit",
   "metadata": {},
   "outputs": [
    {
     "data": {
      "text/plain": [
       "(array([[ -3,  19, -17],\n",
       "        [  7, -18,   2],\n",
       "        [ 19,   8,  17]]),\n",
       " 17,\n",
       " array([19, 19, 17]))"
      ]
     },
     "execution_count": 47,
     "metadata": {},
     "output_type": "execute_result"
    }
   ],
   "source": [
    "max_column = a.max(axis = 0)\n",
    "min_max_column = min(max_column)\n",
    "a, min_max_column, max_column"
   ]
  },
  {
   "cell_type": "code",
   "execution_count": 48,
   "id": "scenic-target",
   "metadata": {},
   "outputs": [
    {
     "data": {
      "text/plain": [
       "(8, array([-17, -18,   8]))"
      ]
     },
     "execution_count": 48,
     "metadata": {},
     "output_type": "execute_result"
    }
   ],
   "source": [
    "min_row = a.min(axis = 1)\n",
    "max_min_row = max(min_row)\n",
    "max_min_row, min_row"
   ]
  },
  {
   "cell_type": "code",
   "execution_count": null,
   "id": "extreme-junior",
   "metadata": {},
   "outputs": [],
   "source": []
  }
 ],
 "metadata": {
  "kernelspec": {
   "display_name": "Python 3",
   "language": "python",
   "name": "python3"
  },
  "language_info": {
   "codemirror_mode": {
    "name": "ipython",
    "version": 3
   },
   "file_extension": ".py",
   "mimetype": "text/x-python",
   "name": "python",
   "nbconvert_exporter": "python",
   "pygments_lexer": "ipython3",
   "version": "3.9.1"
  }
 },
 "nbformat": 4,
 "nbformat_minor": 5
}
