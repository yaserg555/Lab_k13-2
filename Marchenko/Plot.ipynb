{
 "cells": [
  {
   "cell_type": "code",
   "execution_count": 150,
   "id": "central-spain",
   "metadata": {},
   "outputs": [],
   "source": [
    "import numpy as np\n",
    "import matplotlib.pyplot as plt\n",
    "%matplotlib inline"
   ]
  },
  {
   "cell_type": "code",
   "execution_count": 151,
   "id": "working-injury",
   "metadata": {},
   "outputs": [],
   "source": [
    "def f(x):\n",
    "    return x + 1 - (2 * x / (x ** 2 + x - 2))"
   ]
  },
  {
   "cell_type": "code",
   "execution_count": 152,
   "id": "compatible-luther",
   "metadata": {},
   "outputs": [],
   "source": [
    "def points(a, b, n):\n",
    "    return np.linspace(a, b, n)"
   ]
  },
  {
   "cell_type": "code",
   "execution_count": 153,
   "id": "exclusive-final",
   "metadata": {},
   "outputs": [],
   "source": [
    "def plot(a, b, n):\n",
    "    k = points(a, b, n)\n",
    "    return plt.plot(k, f(k), color = 'blue')"
   ]
  },
  {
   "cell_type": "code",
   "execution_count": 154,
   "id": "helpful-values",
   "metadata": {},
   "outputs": [],
   "source": [
    "def asymp(x):\n",
    "    return x + 1"
   ]
  },
  {
   "cell_type": "code",
   "execution_count": 155,
   "id": "technological-tender",
   "metadata": {},
   "outputs": [
    {
     "name": "stdout",
     "output_type": "stream",
     "text": [
      "[<matplotlib.lines.Line2D object at 0x0000012EFBEB9640>]\n",
      "[<matplotlib.lines.Line2D object at 0x0000012EFBEB99D0>]\n",
      "[<matplotlib.lines.Line2D object at 0x0000012EFBEB9DF0>]\n",
      "[<matplotlib.lines.Line2D object at 0x0000012EFBEC5220>]\n",
      "Line2D(_line4)\n",
      "Line2D(_line5)\n"
     ]
    },
    {
     "data": {
      "image/png": "[encoded data removed]",
      "text/plain": [
       "<Figure size 432x288 with 1 Axes>"
      ]
     },
     "metadata": {
      "needs_background": "light"
     },
     "output_type": "display_data"
    }
   ],
   "source": [
    "print(plot(-10, -2.01, 200))\n",
    "print(plot(-1.99, 0.99, 88))\n",
    "print(plot(1.01, 10, 200))\n",
    "print(plt.plot(points(-10, 10, 500), asymp(points(-10, 10, 500)), color = 'red', linestyle = 'dashed'))\n",
    "print(plt.axvline(-2, -150, 150, color = 'red', linestyle = 'dashed'))\n",
    "print(plt.axvline(1, -150, 150, color = 'red', linestyle = 'dashed'))"
   ]
  },
  {
   "cell_type": "code",
   "execution_count": null,
   "id": "manufactured-savings",
   "metadata": {},
   "outputs": [],
   "source": []
  },
  {
   "cell_type": "code",
   "execution_count": null,
   "id": "unlike-halloween",
   "metadata": {},
   "outputs": [],
   "source": []
  }
 ],
 "metadata": {
  "kernelspec": {
   "display_name": "Python 3",
   "language": "python",
   "name": "python3"
  },
  "language_info": {
   "codemirror_mode": {
    "name": "ipython",
    "version": 3
   },
   "file_extension": ".py",
   "mimetype": "text/x-python",
   "name": "python",
   "nbconvert_exporter": "python",
   "pygments_lexer": "ipython3",
   "version": "3.9.1"
  }
 },
 "nbformat": 4,
 "nbformat_minor": 5
}
