{
 "cells": [
  {
   "cell_type": "code",
   "execution_count": 18,
   "id": "suitable-therapy",
   "metadata": {},
   "outputs": [],
   "source": [
    "import numpy as np\n",
    "import matplotlib.pyplot as plt\n",
    "%matplotlib inline"
   ]
  },
  {
   "cell_type": "code",
   "execution_count": 19,
   "id": "pressing-entertainment",
   "metadata": {},
   "outputs": [],
   "source": [
    "def linear_index(indexes_tuple, shape_tuple):\n",
    "    array = np.zeros(shape_tuple)\n",
    "    array[indexes_tuple] = 1\n",
    "    _where = array.flatten()\n",
    "    _where = np.where(_where == 1)\n",
    "    return _where[0][0]"
   ]
  },
  {
   "cell_type": "code",
   "execution_count": 20,
   "id": "present-french",
   "metadata": {},
   "outputs": [
    {
     "data": {
      "text/plain": [
       "7"
      ]
     },
     "execution_count": 20,
     "metadata": {},
     "output_type": "execute_result"
    }
   ],
   "source": [
    "linear_index((2,1), (3,3))"
   ]
  },
  {
   "cell_type": "code",
   "execution_count": 21,
   "id": "legislative-diana",
   "metadata": {},
   "outputs": [],
   "source": [
    "def nd_indexes(LinearIndex, shape_tuple):\n",
    "    indexes_tuple = []\n",
    "    array = np.zeros(shape_tuple)\n",
    "    array = array.flatten()\n",
    "    array[LinearIndex] = 1\n",
    "    _where = np.reshape(array, shape_tuple)\n",
    "    _where = np.where(_where == 1)\n",
    "    for i in range(len(_where)):\n",
    "        indexes_tuple.append(_where[i][0])\n",
    "    return tuple(indexes_tuple)"
   ]
  },
  {
   "cell_type": "code",
   "execution_count": 22,
   "id": "noble-allowance",
   "metadata": {},
   "outputs": [
    {
     "data": {
      "text/plain": [
       "(2, 1)"
      ]
     },
     "execution_count": 22,
     "metadata": {},
     "output_type": "execute_result"
    }
   ],
   "source": [
    "nd_indexes(7, (3,3))"
   ]
  },
  {
   "cell_type": "code",
   "execution_count": 23,
   "id": "placed-prediction",
   "metadata": {},
   "outputs": [],
   "source": [
    "def snail(square_array):\n",
    "    list = []\n",
    "    list.extend(square_array[0])\n",
    "    for i in range(1, 2*(len(square_array))-1):\n",
    "        square_array = square_array.T[::-1]\n",
    "        list.extend(square_array[i // 4, (i - 1) // 4 + 1:len(square_array) - (i + 1) // 4])\n",
    "    return list"
   ]
  },
  {
   "cell_type": "code",
   "execution_count": 24,
   "id": "polish-candidate",
   "metadata": {},
   "outputs": [
    {
     "name": "stdout",
     "output_type": "stream",
     "text": [
      "[[ 1  2  3  4]\n",
      " [ 5  6  7  8]\n",
      " [ 9 10 11 12]\n",
      " [13 14 15 16]]\n",
      "[1, 2, 3, 4, 8, 12, 16, 15, 14, 13, 9, 5, 6, 7, 11, 10]\n"
     ]
    }
   ],
   "source": [
    "a = np.array(([1,2,3,4],[5,6,7,8],[9,10,11,12],[13,14,15,16]))\n",
    "print(a)\n",
    "print(snail(a))"
   ]
  },
  {
   "cell_type": "code",
   "execution_count": 25,
   "id": "unauthorized-terrorism",
   "metadata": {},
   "outputs": [],
   "source": [
    "def snake(square_array):\n",
    "    list = []\n",
    "    for i in range(length := len(square_array)-1):\n",
    "        diagonal = []\n",
    "        for j in range(i + 1):\n",
    "            diagonal.append(square_array[i - j, length - j])\n",
    "        if i / 2:\n",
    "            diagonal.reverse()\n",
    "        list.extend(diagonal)\n",
    "    return list"
   ]
  },
  {
   "cell_type": "code",
   "execution_count": 26,
   "id": "failing-encyclopedia",
   "metadata": {},
   "outputs": [
    {
     "name": "stdout",
     "output_type": "stream",
     "text": [
      "[[ 1  2  3  4]\n",
      " [ 5  6  7  8]\n",
      " [ 9 10 11 12]\n",
      " [13 14 15 16]]\n",
      "[4, 3, 8, 2, 7, 12]\n"
     ]
    }
   ],
   "source": [
    "print(a)\n",
    "print(snake(a))"
   ]
  },
  {
   "cell_type": "code",
   "execution_count": 27,
   "id": "expressed-kitchen",
   "metadata": {},
   "outputs": [],
   "source": [
    "def saddle_points(array):\n",
    "    list = []\n",
    "    array_columns = array.T\n",
    "    for i in range(len(array)):\n",
    "        for j in range(len(array_columns)):\n",
    "            first_condition = min(array[i]) != max(array[i])\n",
    "            second_condition = min(array_columns[j]) != max(array_columns[j])\n",
    "            third_condition = min(array[i]) == max(array_columns[j])\n",
    "            if first_condition and second_condition and third_condition:\n",
    "                list.append((i, j, a[i, j]))\n",
    "    return list"
   ]
  },
  {
   "cell_type": "code",
   "execution_count": 28,
   "id": "later-oxford",
   "metadata": {},
   "outputs": [
    {
     "name": "stdout",
     "output_type": "stream",
     "text": [
      "[[3 4 5]\n",
      " [2 3 1]\n",
      " [1 2 3]]\n",
      "[(0, 0, 1)]\n"
     ]
    }
   ],
   "source": [
    "b = np.array(([3,4,5],[2,3,1],[1,2,3]))\n",
    "print(b)\n",
    "print(saddle_points(b))"
   ]
  },
  {
   "cell_type": "code",
   "execution_count": 29,
   "id": "documentary-humidity",
   "metadata": {},
   "outputs": [
    {
     "data": {
      "image/png": "[encoded data removed]",
      "text/plain": [
       "<Figure size 432x288 with 1 Axes>"
      ]
     },
     "metadata": {
      "needs_background": "light"
     },
     "output_type": "display_data"
    }
   ],
   "source": [
    "def function(x):\n",
    "    return (x*x*x+2*x*x-3*x-2)/(x*x+x-2)\n",
    "\n",
    "\n",
    "def sloping_asimptote(x):\n",
    "    return x-1\n",
    "\n",
    "\n",
    "x = np.linspace(-5, 5, 40)\n",
    "y_function = function(x)\n",
    "y_asimptote = sloping_asimptote(x)\n",
    "plt.plot(x,y_function,color='red', marker='o', linestyle = 'dashed')\n",
    "plt.plot(x,y_asimptote,color='green', marker='o',linestyle = 'dashed')\n",
    "plt.axvline(x=-2, color = 'blue')\n",
    "plt.axvline(x=1, color = 'blue')\n",
    "plt.show()"
   ]
  }
 ],
 "metadata": {
  "kernelspec": {
   "display_name": "Python 3",
   "language": "python",
   "name": "python3"
  },
  "language_info": {
   "codemirror_mode": {
    "name": "ipython",
    "version": 3
   },
   "file_extension": ".py",
   "mimetype": "text/x-python",
   "name": "python",
   "nbconvert_exporter": "python",
   "pygments_lexer": "ipython3",
   "version": "3.8.7"
  }
 },
 "nbformat": 4,
 "nbformat_minor": 5
}
