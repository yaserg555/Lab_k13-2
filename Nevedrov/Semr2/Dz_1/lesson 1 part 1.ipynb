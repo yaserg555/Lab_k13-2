{
 "cells": [
  {
   "cell_type": "code",
   "execution_count": 123,
   "id": "willing-stylus",
   "metadata": {},
   "outputs": [
    {
     "name": "stdout",
     "output_type": "stream",
     "text": [
      "[[0 0 0 0 0 0]\n",
      " [0 0 0 0 0 0]\n",
      " [0 0 0 0 0 0]\n",
      " [0 0 0 0 0 0]\n",
      " [0 0 0 0 0 0]]\n"
     ]
    }
   ],
   "source": [
    "import numpy as np\n",
    "import random\n",
    "n=5\n",
    "m=6\n",
    "a=np.zeros((n,m), dtype=np.int64)\n",
    "print(a)"
   ]
  },
  {
   "cell_type": "code",
   "execution_count": 124,
   "id": "favorite-filling",
   "metadata": {},
   "outputs": [
    {
     "name": "stdout",
     "output_type": "stream",
     "text": [
      "[[-11   3  -5 -13  13 -12]\n",
      " [-14 -19  -3  -1   3   3]\n",
      " [ 18  -7  10  16  -2  -3]\n",
      " [-11  16  -7  16  13  14]\n",
      " [  2  -8   7 -16 -10  20]]\n"
     ]
    }
   ],
   "source": [
    "for i in range(0, n):\n",
    "    for j in range(0, m):\n",
    "        a[i][j]=random.randint(-20, 20)\n",
    "print(a)"
   ]
  },
  {
   "cell_type": "code",
   "execution_count": 125,
   "id": "cosmetic-approach",
   "metadata": {},
   "outputs": [
    {
     "name": "stdout",
     "output_type": "stream",
     "text": [
      "[-11   3  -5 -13  13 -12 -14 -19  -3  -1   3   3  18  -7  10  16  -2  -3\n",
      " -11  16  -7  16  13  14   2  -8   7 -16 -10  20]\n"
     ]
    }
   ],
   "source": [
    "flat=a.flatten()\n",
    "print(flat)"
   ]
  },
  {
   "cell_type": "code",
   "execution_count": 126,
   "id": "terminal-remedy",
   "metadata": {},
   "outputs": [
    {
     "data": {
      "text/plain": [
       "array([[False, False, False, False, False, False],\n",
       "       [False, False, False,  True, False, False],\n",
       "       [False, False, False,  True, False, False],\n",
       "       [False,  True, False,  True, False, False],\n",
       "       [False, False, False,  True, False, False]])"
      ]
     },
     "execution_count": 126,
     "metadata": {},
     "output_type": "execute_result"
    }
   ],
   "source": [
    "s=np.sign(a)\n",
    "b=np.sqrt(abs(a))\n",
    "c=np.trunc(b)\n",
    "d=c*c\n",
    "d=s*d\n",
    "a==d"
   ]
  },
  {
   "cell_type": "code",
   "execution_count": 127,
   "id": "prostate-circle",
   "metadata": {},
   "outputs": [
    {
     "name": "stdout",
     "output_type": "stream",
     "text": [
      "((0, 0), -11)\n",
      "((0, 1), 3)\n",
      "((0, 2), -5)\n",
      "((0, 3), -13)\n",
      "((0, 4), 13)\n",
      "((0, 5), -12)\n",
      "((1, 0), -14)\n",
      "((1, 1), -19)\n",
      "((1, 2), -3)\n",
      "((1, 4), 3)\n",
      "((1, 5), 3)\n",
      "((2, 0), 18)\n",
      "((2, 1), -7)\n",
      "((2, 2), 10)\n",
      "((2, 4), -2)\n",
      "((2, 5), -3)\n",
      "((3, 0), -11)\n",
      "((3, 2), -7)\n",
      "((3, 4), 13)\n",
      "((3, 5), 14)\n",
      "((4, 0), 2)\n",
      "((4, 1), -8)\n",
      "((4, 2), 7)\n",
      "((4, 4), -10)\n",
      "((4, 5), 20)\n"
     ]
    }
   ],
   "source": [
    "h = [print(i) for i in np.ndenumerate(a) if a[i[0]]!=d[i[0]]]"
   ]
  },
  {
   "cell_type": "code",
   "execution_count": 128,
   "id": "incident-singing",
   "metadata": {},
   "outputs": [
    {
     "name": "stdout",
     "output_type": "stream",
     "text": [
      "[[  3  12   5 -15   8   5]\n",
      " [  5   2 -15  -1  -4   0]\n",
      " [ 10  18   1  16 -10   4]\n",
      " [ 17  16  -5  16  19   4]\n",
      " [-17   7  16 -16 -20 -14]]\n"
     ]
    }
   ],
   "source": [
    "for i in np.ndenumerate(a): \n",
    "    if a[i[0]]!=d[i[0]]:\n",
    "        a[i[0]]=random.randint(-20, 20)\n",
    "print(a)"
   ]
  },
  {
   "cell_type": "code",
   "execution_count": 130,
   "id": "known-council",
   "metadata": {},
   "outputs": [
    {
     "name": "stdout",
     "output_type": "stream",
     "text": [
      "[-15, -15, -10, -5, -20]\n",
      "False\n"
     ]
    }
   ],
   "source": [
    "t=a.T\n",
    "f=[max(t[i]) for i in range(m)]\n",
    "f=min(f)\n",
    "g=[min(a[i]) for i in range(n)]\n",
    "g=max(g)\n",
    "print(f==g)"
   ]
  },
  {
   "cell_type": "code",
   "execution_count": null,
   "id": "annual-parade",
   "metadata": {},
   "outputs": [],
   "source": []
  }
 ],
 "metadata": {
  "kernelspec": {
   "display_name": "Python 3",
   "language": "python",
   "name": "python3"
  },
  "language_info": {
   "codemirror_mode": {
    "name": "ipython",
    "version": 3
   },
   "file_extension": ".py",
   "mimetype": "text/x-python",
   "name": "python",
   "nbconvert_exporter": "python",
   "pygments_lexer": "ipython3",
   "version": "3.8.7"
  }
 },
 "nbformat": 4,
 "nbformat_minor": 5
}
