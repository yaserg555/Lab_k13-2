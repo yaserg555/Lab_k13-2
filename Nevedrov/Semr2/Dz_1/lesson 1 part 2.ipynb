{
 "cells": [
  {
   "cell_type": "code",
   "execution_count": 76,
   "id": "outstanding-therapist",
   "metadata": {},
   "outputs": [],
   "source": [
    "import numpy as np\n",
    "import scipy.linalg as la\n",
    "n = 5\n",
    "D = np.zeros((n,n), dtype = np.int64)\n",
    "D[0] = 1\n",
    "D = D.T"
   ]
  },
  {
   "cell_type": "code",
   "execution_count": 95,
   "id": "funded-array",
   "metadata": {},
   "outputs": [
    {
     "name": "stdout",
     "output_type": "stream",
     "text": [
      "[[ 1  0  0  0  0]\n",
      " [ 1 -1  0  0  0]\n",
      " [ 1 -2  0  0  0]\n",
      " [ 1 -3  2  0  0]\n",
      " [ 1 -4  4 -1  0]]\n",
      "1 1 1\n",
      "2 1 2\n",
      "2 2 1\n",
      "3 1 3\n",
      "3 2 2\n",
      "3 3 1\n",
      "4 1 4\n",
      "4 2 3\n",
      "4 3 2\n",
      "4 4 1\n",
      "[[ 1  0  0  0  0]\n",
      " [ 1 -1  0  0  0]\n",
      " [ 1 -2  1  0  0]\n",
      " [ 1 -3  3 -1  0]\n",
      " [ 1 -4  6 -4  1]]\n"
     ]
    }
   ],
   "source": [
    "for i in range(1,n):\n",
    "    for j in range(1,i+1):\n",
    "        D[i][j] = -D[i][j-1]*(i-j+1)/j\n",
    "print(D)"
   ]
  },
  {
   "cell_type": "code",
   "execution_count": 96,
   "id": "statistical-stage",
   "metadata": {},
   "outputs": [
    {
     "data": {
      "text/plain": [
       "array([[1, 0, 0, 0, 0],\n",
       "       [0, 1, 0, 0, 0],\n",
       "       [0, 0, 1, 0, 0],\n",
       "       [0, 0, 0, 1, 0],\n",
       "       [0, 0, 0, 0, 1]], dtype=int64)"
      ]
     },
     "execution_count": 96,
     "metadata": {},
     "output_type": "execute_result"
    }
   ],
   "source": [
    "D@D"
   ]
  },
  {
   "cell_type": "code",
   "execution_count": 98,
   "id": "continental-georgia",
   "metadata": {},
   "outputs": [
    {
     "data": {
      "text/plain": [
       "array([[ True,  True,  True,  True,  True],\n",
       "       [ True,  True,  True,  True,  True],\n",
       "       [ True,  True,  True,  True,  True],\n",
       "       [ True,  True,  True,  True,  True],\n",
       "       [ True,  True,  True,  True,  True]])"
      ]
     },
     "execution_count": 98,
     "metadata": {},
     "output_type": "execute_result"
    }
   ],
   "source": [
    "D@D == np.identity(n) "
   ]
  },
  {
   "cell_type": "code",
   "execution_count": 101,
   "id": "innovative-pregnancy",
   "metadata": {},
   "outputs": [
    {
     "name": "stdout",
     "output_type": "stream",
     "text": [
      "[[ 1.  0.  0.  0.  0.]\n",
      " [ 1. -1.  0.  0.  0.]\n",
      " [ 1. -2.  1.  0.  0.]\n",
      " [ 1. -3.  3. -1.  0.]\n",
      " [ 1. -4.  6. -4.  1.]]\n"
     ]
    }
   ],
   "source": [
    "L = la.inv(D)\n",
    "print(L)"
   ]
  },
  {
   "cell_type": "code",
   "execution_count": 102,
   "id": "cooperative-delay",
   "metadata": {},
   "outputs": [
    {
     "data": {
      "text/plain": [
       "array([[ True,  True,  True,  True,  True],\n",
       "       [ True,  True,  True,  True,  True],\n",
       "       [ True,  True,  True,  True,  True],\n",
       "       [ True,  True,  True,  True,  True],\n",
       "       [ True,  True,  True,  True,  True]])"
      ]
     },
     "execution_count": 102,
     "metadata": {},
     "output_type": "execute_result"
    }
   ],
   "source": [
    "L == D"
   ]
  }
 ],
 "metadata": {
  "kernelspec": {
   "display_name": "Python 3",
   "language": "python",
   "name": "python3"
  },
  "language_info": {
   "codemirror_mode": {
    "name": "ipython",
    "version": 3
   },
   "file_extension": ".py",
   "mimetype": "text/x-python",
   "name": "python",
   "nbconvert_exporter": "python",
   "pygments_lexer": "ipython3",
   "version": "3.8.7"
  }
 },
 "nbformat": 4,
 "nbformat_minor": 5
}
