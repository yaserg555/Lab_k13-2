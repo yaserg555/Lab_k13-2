{
 "cells": [
  {
   "cell_type": "code",
   "execution_count": 21,
   "id": "mobile-webmaster",
   "metadata": {},
   "outputs": [],
   "source": [
    "import numpy as np\n",
    "import timeit\n",
    "from math import ceil\n",
    "from itertools import combinations\n",
    "import matplotlib.pyplot as plt\n",
    "%matplotlib inline"
   ]
  },
  {
   "cell_type": "code",
   "execution_count": 22,
   "id": "israeli-boxing",
   "metadata": {},
   "outputs": [
    {
     "data": {
      "image/png": "[encoded data removed]",
      "text/plain": [
       "<Figure size 432x288 with 1 Axes>"
      ]
     },
     "metadata": {
      "needs_background": "light"
     },
     "output_type": "display_data"
    }
   ],
   "source": [
    "def function(x):\n",
    "    return (x*x*x+2*x*x-3*x-2)/(x*x+x-2)\n",
    "\n",
    "\n",
    "def sloping_asimptote(x):\n",
    "    return x-1\n",
    "\n",
    "\n",
    "x = np.linspace(-4, 4, 40)\n",
    "y_function = function(x)\n",
    "y_asimptote = sloping_asimptote(x)\n",
    "plt.plot(x,y_function,color='red')\n",
    "plt.plot(x,y_asimptote,color='green')\n",
    "plt.axvline(x=-2, color = 'blue')\n",
    "plt.axvline(x=1, color = 'blue')\n",
    "plt.show()"
   ]
  },
  {
   "cell_type": "code",
   "execution_count": 3,
   "id": "convenient-essence",
   "metadata": {},
   "outputs": [
    {
     "name": "stdout",
     "output_type": "stream",
     "text": [
      "[[0. 1. 2.]\n",
      " [0. 3. 0.]\n",
      " [0. 0. 0.]]\n"
     ]
    }
   ],
   "source": [
    "def snail(square_array):\n",
    "    for i in range(ceil(len(square_array)/2)):\n",
    "        for j in range(i, len(square_array)-i):\n",
    "            square_array[i, j] = i * len(square_array) + (j - i * i)\n",
    "    return square_array\n",
    "\n",
    "\n",
    "a = np.zeros((3,3))\n",
    "print(snail(a))"
   ]
  },
  {
   "cell_type": "code",
   "execution_count": 6,
   "id": "grateful-paste",
   "metadata": {},
   "outputs": [
    {
     "name": "stdout",
     "output_type": "stream",
     "text": [
      "[[ 0  1  2  3  4  5]\n",
      " [ 6  7  8  9 10 11]\n",
      " [12 13 14 15 16 17]\n",
      " [18 19 20 21 22 23]\n",
      " [24 25 26 27 28 29]\n",
      " [30 31 32 33 34 35]]\n",
      "[5, 4, 3, 2, 1, 0, 10, 9, 8, 7, 15, 14]\n"
     ]
    }
   ],
   "source": [
    "def snake(square_array):\n",
    "    list = []\n",
    "    for i in range(ceil(len(square_array)/2)):\n",
    "        for j in range(len(square_array)-i-1, i-1, -1):\n",
    "            list.append(square_array[i, j])\n",
    "        square_array.T[::-1]\n",
    "    return list\n",
    "\n",
    "\n",
    "a = np.array([[i * 5 + j + i for j in range(6)] for i in range(6)])\n",
    "print(a, snake(a), sep='\\n')"
   ]
  },
  {
   "cell_type": "code",
   "execution_count": 13,
   "id": "impressive-velvet",
   "metadata": {},
   "outputs": [],
   "source": [
    "def set_list(set_dict: list) -> list:\n",
    "    return [set_dict[i] for i in set_dict.keys()]\n",
    "\n",
    "\n",
    "def list_no_repeat(number_list: dict) -> list:\n",
    "    number_dict = dict(enumerate(number_list))\n",
    "    inv_number_dict = {value: key for key, value in number_dict.items()}\n",
    "    return [*inv_number_dict.keys()]\n",
    "\n",
    "\n",
    "def find_values(function_dict: dict, domain_set: set) -> list:\n",
    "    return [function_dict[i] for i in domain_set]\n",
    "\n",
    "\n",
    "def reverse_function_boolean(function_dict: dict, domain_set: set) -> dict:\n",
    "    boolean_domain_set = []\n",
    "    for i in range(len(domain_set) + 1):\n",
    "        boolean_domain_set.extend(combinations(domain_set, i))\n",
    "    boolean_domain_set = set(boolean_domain_set)\n",
    "    return dict(domain={*function_dict.values()}, values=boolean_domain_set)\n",
    "\n",
    "\n",
    "def reverse_function(function_dict: dict, element: int) -> dict:\n",
    "    return {value: key for key, value in function_dict.items()}[element]"
   ]
  },
  {
   "cell_type": "code",
   "execution_count": 20,
   "id": "dated-missouri",
   "metadata": {},
   "outputs": [
    {
     "name": "stdout",
     "output_type": "stream",
     "text": [
      "[1, 2]\n",
      "[1, 2, 3, 4]\n",
      "[1]\n",
      "{'domain': {0, 1, 2, 3}, 'values': {(0,), (1,), (), (0, 1)}}\n",
      "5\n"
     ]
    }
   ],
   "source": [
    "print(set_list({1:1, 2:2}))\n",
    "print(list_no_repeat([1,2,1,3,4,3,4]))\n",
    "print(find_values({0:1, 1:2}, {0}))\n",
    "print(reverse_function_boolean({0:0, 1:1, 2:2, 3:3}, (0,1)))\n",
    "print(reverse_function({x: x*x for x in range(6)}, 25))"
   ]
  }
 ],
 "metadata": {
  "kernelspec": {
   "display_name": "Python 3",
   "language": "python",
   "name": "python3"
  },
  "language_info": {
   "codemirror_mode": {
    "name": "ipython",
    "version": 3
   },
   "file_extension": ".py",
   "mimetype": "text/x-python",
   "name": "python",
   "nbconvert_exporter": "python",
   "pygments_lexer": "ipython3",
   "version": "3.8.7"
  }
 },
 "nbformat": 4,
 "nbformat_minor": 5
}
