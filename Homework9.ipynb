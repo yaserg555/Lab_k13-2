{
 "cells": [
  {
   "cell_type": "code",
   "execution_count": 1,
   "id": "martial-honduras",
   "metadata": {},
   "outputs": [
    {
     "name": "stdout",
     "output_type": "stream",
     "text": [
      "[(3523.0, 4534624.0), (3264246.0, 4635.65477)]\n"
     ]
    }
   ],
   "source": [
    "def read_nums(file_name, data):\n",
    "    try:\n",
    "        with open(file_name) as file:\n",
    "            for line in file:\n",
    "                seq = line.split()\n",
    "                data.append((float(seq[0]),float(seq[1])))\n",
    "    except BaseException as ಠ_ಠ:\n",
    "        print(\"Exception occured\", ಠ_ಠ)\n",
    "data = []\n",
    "read_nums('1.txt', data)\n",
    "print(data)"
   ]
  },
  {
   "cell_type": "code",
   "execution_count": 2,
   "id": "natural-sunday",
   "metadata": {},
   "outputs": [
    {
     "data": {
      "text/plain": [
       "2"
      ]
     },
     "execution_count": 2,
     "metadata": {},
     "output_type": "execute_result"
    }
   ],
   "source": [
    "def line_count(file_name):\n",
    "    try:\n",
    "        with open(file_name) as file:\n",
    "            count = 1\n",
    "            while (s := file.read(1)):\n",
    "                if (s == '\\n'):\n",
    "                    count += 1\n",
    "            return count\n",
    "    except BaseException as ಥ﹏ಥ:\n",
    "        print('The end', ಥ﹏ಥ)\n",
    "line_count('3.txt')        "
   ]
  },
  {
   "cell_type": "code",
   "execution_count": 9,
   "id": "substantial-signal",
   "metadata": {},
   "outputs": [
    {
     "name": "stdout",
     "output_type": "stream",
     "text": [
      " \n",
      "True\n"
     ]
    }
   ],
   "source": [
    "class Reader:\n",
    "\n",
    "    def __init__(self, file_name):\n",
    "        self.file_name = file_name\n",
    "        self._f = open(self.file_name)\n",
    "            \n",
    "    def _check_fn(self, file_name):\n",
    "        if not isinstance(file_name, str):\n",
    "            raise TypeError('Wrong type')\n",
    "        return file_name\n",
    "    \n",
    "    def num_splitter(self):\n",
    "        try:\n",
    "            with open(self.file_name) as file:\n",
    "                s = ''\n",
    "                while symb := file.read(1):\n",
    "                    if symb.isspace() and s:\n",
    "                        print(s)\n",
    "                        s = ''\n",
    "                    else:\n",
    "                        s += symb\n",
    "                if s:\n",
    "                    print(s)\n",
    "        except BaseException as ಠ_ಠ:\n",
    "            print(ಠ_ಠ)\n",
    "            \n",
    "    def next_num(self):\n",
    "        num = ''\n",
    "        while s:=self._f.read(1):\n",
    "            if s.isspace() and s:\n",
    "                break\n",
    "            else:\n",
    "                num += s\n",
    "        return float(num) if num else ''\n",
    "    \n",
    "    def __enter__(self):\n",
    "        return self\n",
    "    \n",
    "    def __exit__(self, exc_type, exc_val, exc_tb):\n",
    "        if not exc_val is None:\n",
    "            print('GG')\n",
    "\n",
    "with Reader('1.txt') as file1, Reader('3.txt') as file2:\n",
    "    n1 = file1.next_num()\n",
    "    n2 = file2.next_num()\n",
    "    eq = n1 == n2\n",
    "    while eq and n1 and n2:\n",
    "        n1 = file1.next_num()\n",
    "        n2 = file2.next_num()\n",
    "        eq = n1 == n2\n",
    "    print(eq)"
   ]
  },
  {
   "cell_type": "code",
   "execution_count": null,
   "id": "polar-bronze",
   "metadata": {},
   "outputs": [],
   "source": []
  }
 ],
 "metadata": {
  "kernelspec": {
   "display_name": "Python 3",
   "language": "python",
   "name": "python3"
  },
  "language_info": {
   "codemirror_mode": {
    "name": "ipython",
    "version": 3
   },
   "file_extension": ".py",
   "mimetype": "text/x-python",
   "name": "python",
   "nbconvert_exporter": "python",
   "pygments_lexer": "ipython3",
   "version": "3.9.2"
  }
 },
 "nbformat": 4,
 "nbformat_minor": 5
}
