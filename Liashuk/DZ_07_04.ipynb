import os
import random
with open('file.txt', 'w', encoding = "UTF-8") as file:
    file_size = os.stat('file.txt').st_size
    while file_size < 100_000:
        a = random.uniform(-1000, 1000)
        b = random.uniform(-1000, 1000)
        file.write(f'{a} {b}\n')
        file_size = os.stat('file.txt').st_size
